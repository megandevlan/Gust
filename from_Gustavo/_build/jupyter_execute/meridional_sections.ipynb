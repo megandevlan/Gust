{
 "cells": [
  {
   "cell_type": "markdown",
   "metadata": {},
   "source": [
    "## Meridional Sections"
   ]
  },
  {
   "cell_type": "code",
   "execution_count": 1,
   "metadata": {},
   "outputs": [],
   "source": [
    "%%capture \n",
    "# comment above line to see details about the run(s) displayed\n",
    "from misc import *\n",
    "import intake, yaml\n",
    "from mom6_tools.m6toolbox import section2quadmesh\n",
    "from subprocess import PIPE, STDOUT, Popen\n",
    "import re\n",
    "%matplotlib inline"
   ]
  },
  {
   "cell_type": "code",
   "execution_count": 2,
   "metadata": {},
   "outputs": [],
   "source": [
    "def extrapCoord(xCell):\n",
    "  \"\"\"\n",
    "  Returns the (extrapolated/interpolated) positions of vertices, derived from cell center positions\n",
    "  \"\"\"\n",
    "  newCoord = 0.5*( xCell[0:-1] + xCell[1:] )\n",
    "  newCoord = np.insert(newCoord, 0, 1.5*xCell[0] - 0.5*xCell[1])\n",
    "  newCoord = np.append(newCoord, [1.5*xCell[-1] - 0.5*xCell[-2]])\n",
    "  return newCoord"
   ]
  },
  {
   "cell_type": "code",
   "execution_count": 3,
   "metadata": {},
   "outputs": [
    {
     "name": "stderr",
     "output_type": "stream",
     "text": [
      "mkdir: cannot create directory ‘sections’: File exists\n"
     ]
    }
   ],
   "source": [
    "os.system('mkdir sections');"
   ]
  },
  {
   "cell_type": "code",
   "execution_count": 4,
   "metadata": {},
   "outputs": [],
   "source": [
    "start_date = '0051-01-01'\n",
    "#end_date   = '0012-01-01'"
   ]
  },
  {
   "cell_type": "code",
   "execution_count": 5,
   "metadata": {},
   "outputs": [],
   "source": [
    "n = 0\n",
    "fname = OUTDIR[n]+casename[n]+'.mom6.h.native.*.nc'\n",
    "da =  xr.open_mfdataset(fname).sel(time=slice(start_date,end_date))"
   ]
  },
  {
   "cell_type": "code",
   "execution_count": 6,
   "metadata": {
    "scrolled": true
   },
   "outputs": [],
   "source": [
    "#da.h"
   ]
  },
  {
   "cell_type": "code",
   "execution_count": 7,
   "metadata": {},
   "outputs": [
    {
     "ename": "IndexError",
     "evalue": "Index 0 is out of bounds for axis 0 with size 0",
     "output_type": "error",
     "traceback": [
      "\u001b[0;31m---------------------------------------------------------------------------\u001b[0m",
      "\u001b[0;31mIndexError\u001b[0m                                Traceback (most recent call last)",
      "\u001b[0;32m/glade/derecho/scratch/gmarques/tmp/ipykernel_24204/495014354.py\u001b[0m in \u001b[0;36m<module>\u001b[0;34m\u001b[0m\n\u001b[1;32m      1\u001b[0m \u001b[0mmatplotlib\u001b[0m\u001b[0;34m.\u001b[0m\u001b[0mrcParams\u001b[0m\u001b[0;34m.\u001b[0m\u001b[0mupdate\u001b[0m\u001b[0;34m(\u001b[0m\u001b[0;34m{\u001b[0m\u001b[0;34m'font.size'\u001b[0m\u001b[0;34m:\u001b[0m \u001b[0;36m16\u001b[0m\u001b[0;34m}\u001b[0m\u001b[0;34m)\u001b[0m\u001b[0;34m\u001b[0m\u001b[0;34m\u001b[0m\u001b[0m\n\u001b[1;32m      2\u001b[0m \u001b[0mfig\u001b[0m\u001b[0;34m,\u001b[0m \u001b[0max\u001b[0m \u001b[0;34m=\u001b[0m \u001b[0mplt\u001b[0m\u001b[0;34m.\u001b[0m\u001b[0msubplots\u001b[0m\u001b[0;34m(\u001b[0m\u001b[0mfigsize\u001b[0m\u001b[0;34m=\u001b[0m\u001b[0;34m(\u001b[0m\u001b[0;36m16\u001b[0m\u001b[0;34m,\u001b[0m \u001b[0;36m7\u001b[0m\u001b[0;34m)\u001b[0m\u001b[0;34m)\u001b[0m\u001b[0;34m\u001b[0m\u001b[0;34m\u001b[0m\u001b[0m\n\u001b[0;32m----> 3\u001b[0;31m \u001b[0mda\u001b[0m\u001b[0;34m.\u001b[0m\u001b[0mtos\u001b[0m\u001b[0;34m[\u001b[0m\u001b[0;36m0\u001b[0m\u001b[0;34m,\u001b[0m\u001b[0;34m:\u001b[0m\u001b[0;34m]\u001b[0m\u001b[0;34m.\u001b[0m\u001b[0mplot\u001b[0m\u001b[0;34m(\u001b[0m\u001b[0max\u001b[0m\u001b[0;34m=\u001b[0m\u001b[0max\u001b[0m\u001b[0;34m,\u001b[0m \u001b[0mvmin\u001b[0m\u001b[0;34m=\u001b[0m\u001b[0;34m-\u001b[0m\u001b[0;36m1\u001b[0m\u001b[0;34m,\u001b[0m \u001b[0mvmax\u001b[0m\u001b[0;34m=\u001b[0m\u001b[0;36m30\u001b[0m\u001b[0;34m)\u001b[0m\u001b[0;34m\u001b[0m\u001b[0;34m\u001b[0m\u001b[0m\n\u001b[0m\u001b[1;32m      4\u001b[0m \u001b[0;34m\u001b[0m\u001b[0m\n\u001b[1;32m      5\u001b[0m \u001b[0;31m# prime\u001b[0m\u001b[0;34m\u001b[0m\u001b[0;34m\u001b[0m\u001b[0m\n",
      "\u001b[0;32m/glade/work/gmarques/miniconda/envs/dev2/lib/python3.9/site-packages/xarray/core/dataarray.py\u001b[0m in \u001b[0;36m__getitem__\u001b[0;34m(self, key)\u001b[0m\n\u001b[1;32m    808\u001b[0m         \u001b[0;32melse\u001b[0m\u001b[0;34m:\u001b[0m\u001b[0;34m\u001b[0m\u001b[0;34m\u001b[0m\u001b[0m\n\u001b[1;32m    809\u001b[0m             \u001b[0;31m# xarray-style array indexing\u001b[0m\u001b[0;34m\u001b[0m\u001b[0;34m\u001b[0m\u001b[0m\n\u001b[0;32m--> 810\u001b[0;31m             \u001b[0;32mreturn\u001b[0m \u001b[0mself\u001b[0m\u001b[0;34m.\u001b[0m\u001b[0misel\u001b[0m\u001b[0;34m(\u001b[0m\u001b[0mindexers\u001b[0m\u001b[0;34m=\u001b[0m\u001b[0mself\u001b[0m\u001b[0;34m.\u001b[0m\u001b[0m_item_key_to_dict\u001b[0m\u001b[0;34m(\u001b[0m\u001b[0mkey\u001b[0m\u001b[0;34m)\u001b[0m\u001b[0;34m)\u001b[0m\u001b[0;34m\u001b[0m\u001b[0;34m\u001b[0m\u001b[0m\n\u001b[0m\u001b[1;32m    811\u001b[0m \u001b[0;34m\u001b[0m\u001b[0m\n\u001b[1;32m    812\u001b[0m     \u001b[0;32mdef\u001b[0m \u001b[0m__setitem__\u001b[0m\u001b[0;34m(\u001b[0m\u001b[0mself\u001b[0m\u001b[0;34m,\u001b[0m \u001b[0mkey\u001b[0m\u001b[0;34m:\u001b[0m \u001b[0mAny\u001b[0m\u001b[0;34m,\u001b[0m \u001b[0mvalue\u001b[0m\u001b[0;34m:\u001b[0m \u001b[0mAny\u001b[0m\u001b[0;34m)\u001b[0m \u001b[0;34m->\u001b[0m \u001b[0;32mNone\u001b[0m\u001b[0;34m:\u001b[0m\u001b[0;34m\u001b[0m\u001b[0;34m\u001b[0m\u001b[0m\n",
      "\u001b[0;32m/glade/work/gmarques/miniconda/envs/dev2/lib/python3.9/site-packages/xarray/core/dataarray.py\u001b[0m in \u001b[0;36misel\u001b[0;34m(self, indexers, drop, missing_dims, **indexers_kwargs)\u001b[0m\n\u001b[1;32m   1379\u001b[0m         \u001b[0;31m# lists, or zero or one-dimensional np.ndarray's\u001b[0m\u001b[0;34m\u001b[0m\u001b[0;34m\u001b[0m\u001b[0m\n\u001b[1;32m   1380\u001b[0m \u001b[0;34m\u001b[0m\u001b[0m\n\u001b[0;32m-> 1381\u001b[0;31m         \u001b[0mvariable\u001b[0m \u001b[0;34m=\u001b[0m \u001b[0mself\u001b[0m\u001b[0;34m.\u001b[0m\u001b[0m_variable\u001b[0m\u001b[0;34m.\u001b[0m\u001b[0misel\u001b[0m\u001b[0;34m(\u001b[0m\u001b[0mindexers\u001b[0m\u001b[0;34m,\u001b[0m \u001b[0mmissing_dims\u001b[0m\u001b[0;34m=\u001b[0m\u001b[0mmissing_dims\u001b[0m\u001b[0;34m)\u001b[0m\u001b[0;34m\u001b[0m\u001b[0;34m\u001b[0m\u001b[0m\n\u001b[0m\u001b[1;32m   1382\u001b[0m         \u001b[0mindexes\u001b[0m\u001b[0;34m,\u001b[0m \u001b[0mindex_variables\u001b[0m \u001b[0;34m=\u001b[0m \u001b[0misel_indexes\u001b[0m\u001b[0;34m(\u001b[0m\u001b[0mself\u001b[0m\u001b[0;34m.\u001b[0m\u001b[0mxindexes\u001b[0m\u001b[0;34m,\u001b[0m \u001b[0mindexers\u001b[0m\u001b[0;34m)\u001b[0m\u001b[0;34m\u001b[0m\u001b[0;34m\u001b[0m\u001b[0m\n\u001b[1;32m   1383\u001b[0m \u001b[0;34m\u001b[0m\u001b[0m\n",
      "\u001b[0;32m/glade/work/gmarques/miniconda/envs/dev2/lib/python3.9/site-packages/xarray/core/variable.py\u001b[0m in \u001b[0;36misel\u001b[0;34m(self, indexers, missing_dims, **indexers_kwargs)\u001b[0m\n\u001b[1;32m   1256\u001b[0m \u001b[0;34m\u001b[0m\u001b[0m\n\u001b[1;32m   1257\u001b[0m         \u001b[0mkey\u001b[0m \u001b[0;34m=\u001b[0m \u001b[0mtuple\u001b[0m\u001b[0;34m(\u001b[0m\u001b[0mindexers\u001b[0m\u001b[0;34m.\u001b[0m\u001b[0mget\u001b[0m\u001b[0;34m(\u001b[0m\u001b[0mdim\u001b[0m\u001b[0;34m,\u001b[0m \u001b[0mslice\u001b[0m\u001b[0;34m(\u001b[0m\u001b[0;32mNone\u001b[0m\u001b[0;34m)\u001b[0m\u001b[0;34m)\u001b[0m \u001b[0;32mfor\u001b[0m \u001b[0mdim\u001b[0m \u001b[0;32min\u001b[0m \u001b[0mself\u001b[0m\u001b[0;34m.\u001b[0m\u001b[0mdims\u001b[0m\u001b[0;34m)\u001b[0m\u001b[0;34m\u001b[0m\u001b[0;34m\u001b[0m\u001b[0m\n\u001b[0;32m-> 1258\u001b[0;31m         \u001b[0;32mreturn\u001b[0m \u001b[0mself\u001b[0m\u001b[0;34m[\u001b[0m\u001b[0mkey\u001b[0m\u001b[0;34m]\u001b[0m\u001b[0;34m\u001b[0m\u001b[0;34m\u001b[0m\u001b[0m\n\u001b[0m\u001b[1;32m   1259\u001b[0m \u001b[0;34m\u001b[0m\u001b[0m\n\u001b[1;32m   1260\u001b[0m     \u001b[0;32mdef\u001b[0m \u001b[0msqueeze\u001b[0m\u001b[0;34m(\u001b[0m\u001b[0mself\u001b[0m\u001b[0;34m,\u001b[0m \u001b[0mdim\u001b[0m\u001b[0;34m=\u001b[0m\u001b[0;32mNone\u001b[0m\u001b[0;34m)\u001b[0m\u001b[0;34m:\u001b[0m\u001b[0;34m\u001b[0m\u001b[0;34m\u001b[0m\u001b[0m\n",
      "\u001b[0;32m/glade/work/gmarques/miniconda/envs/dev2/lib/python3.9/site-packages/xarray/core/variable.py\u001b[0m in \u001b[0;36m__getitem__\u001b[0;34m(self, key)\u001b[0m\n\u001b[1;32m    815\u001b[0m         \"\"\"\n\u001b[1;32m    816\u001b[0m         \u001b[0mdims\u001b[0m\u001b[0;34m,\u001b[0m \u001b[0mindexer\u001b[0m\u001b[0;34m,\u001b[0m \u001b[0mnew_order\u001b[0m \u001b[0;34m=\u001b[0m \u001b[0mself\u001b[0m\u001b[0;34m.\u001b[0m\u001b[0m_broadcast_indexes\u001b[0m\u001b[0;34m(\u001b[0m\u001b[0mkey\u001b[0m\u001b[0;34m)\u001b[0m\u001b[0;34m\u001b[0m\u001b[0;34m\u001b[0m\u001b[0m\n\u001b[0;32m--> 817\u001b[0;31m         \u001b[0mdata\u001b[0m \u001b[0;34m=\u001b[0m \u001b[0mas_indexable\u001b[0m\u001b[0;34m(\u001b[0m\u001b[0mself\u001b[0m\u001b[0;34m.\u001b[0m\u001b[0m_data\u001b[0m\u001b[0;34m)\u001b[0m\u001b[0;34m[\u001b[0m\u001b[0mindexer\u001b[0m\u001b[0;34m]\u001b[0m\u001b[0;34m\u001b[0m\u001b[0;34m\u001b[0m\u001b[0m\n\u001b[0m\u001b[1;32m    818\u001b[0m         \u001b[0;32mif\u001b[0m \u001b[0mnew_order\u001b[0m\u001b[0;34m:\u001b[0m\u001b[0;34m\u001b[0m\u001b[0;34m\u001b[0m\u001b[0m\n\u001b[1;32m    819\u001b[0m             \u001b[0mdata\u001b[0m \u001b[0;34m=\u001b[0m \u001b[0mnp\u001b[0m\u001b[0;34m.\u001b[0m\u001b[0mmoveaxis\u001b[0m\u001b[0;34m(\u001b[0m\u001b[0mdata\u001b[0m\u001b[0;34m,\u001b[0m \u001b[0mrange\u001b[0m\u001b[0;34m(\u001b[0m\u001b[0mlen\u001b[0m\u001b[0;34m(\u001b[0m\u001b[0mnew_order\u001b[0m\u001b[0;34m)\u001b[0m\u001b[0;34m)\u001b[0m\u001b[0;34m,\u001b[0m \u001b[0mnew_order\u001b[0m\u001b[0;34m)\u001b[0m\u001b[0;34m\u001b[0m\u001b[0;34m\u001b[0m\u001b[0m\n",
      "\u001b[0;32m/glade/work/gmarques/miniconda/envs/dev2/lib/python3.9/site-packages/xarray/core/indexing.py\u001b[0m in \u001b[0;36m__getitem__\u001b[0;34m(self, key)\u001b[0m\n\u001b[1;32m   1365\u001b[0m \u001b[0;34m\u001b[0m\u001b[0m\n\u001b[1;32m   1366\u001b[0m         \u001b[0;32mif\u001b[0m \u001b[0misinstance\u001b[0m\u001b[0;34m(\u001b[0m\u001b[0mkey\u001b[0m\u001b[0;34m,\u001b[0m \u001b[0mBasicIndexer\u001b[0m\u001b[0;34m)\u001b[0m\u001b[0;34m:\u001b[0m\u001b[0;34m\u001b[0m\u001b[0;34m\u001b[0m\u001b[0m\n\u001b[0;32m-> 1367\u001b[0;31m             \u001b[0;32mreturn\u001b[0m \u001b[0mself\u001b[0m\u001b[0;34m.\u001b[0m\u001b[0marray\u001b[0m\u001b[0;34m[\u001b[0m\u001b[0mkey\u001b[0m\u001b[0;34m.\u001b[0m\u001b[0mtuple\u001b[0m\u001b[0;34m]\u001b[0m\u001b[0;34m\u001b[0m\u001b[0;34m\u001b[0m\u001b[0m\n\u001b[0m\u001b[1;32m   1368\u001b[0m         \u001b[0;32melif\u001b[0m \u001b[0misinstance\u001b[0m\u001b[0;34m(\u001b[0m\u001b[0mkey\u001b[0m\u001b[0;34m,\u001b[0m \u001b[0mVectorizedIndexer\u001b[0m\u001b[0;34m)\u001b[0m\u001b[0;34m:\u001b[0m\u001b[0;34m\u001b[0m\u001b[0;34m\u001b[0m\u001b[0m\n\u001b[1;32m   1369\u001b[0m             \u001b[0;32mreturn\u001b[0m \u001b[0mself\u001b[0m\u001b[0;34m.\u001b[0m\u001b[0marray\u001b[0m\u001b[0;34m.\u001b[0m\u001b[0mvindex\u001b[0m\u001b[0;34m[\u001b[0m\u001b[0mkey\u001b[0m\u001b[0;34m.\u001b[0m\u001b[0mtuple\u001b[0m\u001b[0;34m]\u001b[0m\u001b[0;34m\u001b[0m\u001b[0;34m\u001b[0m\u001b[0m\n",
      "\u001b[0;32m/glade/work/gmarques/miniconda/envs/dev2/lib/python3.9/site-packages/dask/array/core.py\u001b[0m in \u001b[0;36m__getitem__\u001b[0;34m(self, index)\u001b[0m\n\u001b[1;32m   1977\u001b[0m         )\n\u001b[1;32m   1978\u001b[0m \u001b[0;34m\u001b[0m\u001b[0m\n\u001b[0;32m-> 1979\u001b[0;31m         \u001b[0mindex2\u001b[0m \u001b[0;34m=\u001b[0m \u001b[0mnormalize_index\u001b[0m\u001b[0;34m(\u001b[0m\u001b[0mindex\u001b[0m\u001b[0;34m,\u001b[0m \u001b[0mself\u001b[0m\u001b[0;34m.\u001b[0m\u001b[0mshape\u001b[0m\u001b[0;34m)\u001b[0m\u001b[0;34m\u001b[0m\u001b[0;34m\u001b[0m\u001b[0m\n\u001b[0m\u001b[1;32m   1980\u001b[0m         \u001b[0mdependencies\u001b[0m \u001b[0;34m=\u001b[0m \u001b[0;34m{\u001b[0m\u001b[0mself\u001b[0m\u001b[0;34m.\u001b[0m\u001b[0mname\u001b[0m\u001b[0;34m}\u001b[0m\u001b[0;34m\u001b[0m\u001b[0;34m\u001b[0m\u001b[0m\n\u001b[1;32m   1981\u001b[0m         \u001b[0;32mfor\u001b[0m \u001b[0mi\u001b[0m \u001b[0;32min\u001b[0m \u001b[0mindex2\u001b[0m\u001b[0;34m:\u001b[0m\u001b[0;34m\u001b[0m\u001b[0;34m\u001b[0m\u001b[0m\n",
      "\u001b[0;32m/glade/work/gmarques/miniconda/envs/dev2/lib/python3.9/site-packages/dask/array/slicing.py\u001b[0m in \u001b[0;36mnormalize_index\u001b[0;34m(idx, shape)\u001b[0m\n\u001b[1;32m    920\u001b[0m     \u001b[0;32mfor\u001b[0m \u001b[0maxis\u001b[0m\u001b[0;34m,\u001b[0m \u001b[0;34m(\u001b[0m\u001b[0mi\u001b[0m\u001b[0;34m,\u001b[0m \u001b[0md\u001b[0m\u001b[0;34m)\u001b[0m \u001b[0;32min\u001b[0m \u001b[0menumerate\u001b[0m\u001b[0;34m(\u001b[0m\u001b[0mzip\u001b[0m\u001b[0;34m(\u001b[0m\u001b[0midx\u001b[0m\u001b[0;34m,\u001b[0m \u001b[0mnone_shape\u001b[0m\u001b[0;34m)\u001b[0m\u001b[0;34m)\u001b[0m\u001b[0;34m:\u001b[0m\u001b[0;34m\u001b[0m\u001b[0;34m\u001b[0m\u001b[0m\n\u001b[1;32m    921\u001b[0m         \u001b[0;32mif\u001b[0m \u001b[0md\u001b[0m \u001b[0;32mis\u001b[0m \u001b[0;32mnot\u001b[0m \u001b[0;32mNone\u001b[0m\u001b[0;34m:\u001b[0m\u001b[0;34m\u001b[0m\u001b[0;34m\u001b[0m\u001b[0m\n\u001b[0;32m--> 922\u001b[0;31m             \u001b[0mcheck_index\u001b[0m\u001b[0;34m(\u001b[0m\u001b[0maxis\u001b[0m\u001b[0;34m,\u001b[0m \u001b[0mi\u001b[0m\u001b[0;34m,\u001b[0m \u001b[0md\u001b[0m\u001b[0;34m)\u001b[0m\u001b[0;34m\u001b[0m\u001b[0;34m\u001b[0m\u001b[0m\n\u001b[0m\u001b[1;32m    923\u001b[0m     \u001b[0midx\u001b[0m \u001b[0;34m=\u001b[0m \u001b[0mtuple\u001b[0m\u001b[0;34m(\u001b[0m\u001b[0mmap\u001b[0m\u001b[0;34m(\u001b[0m\u001b[0msanitize_index\u001b[0m\u001b[0;34m,\u001b[0m \u001b[0midx\u001b[0m\u001b[0;34m)\u001b[0m\u001b[0;34m)\u001b[0m\u001b[0;34m\u001b[0m\u001b[0;34m\u001b[0m\u001b[0m\n\u001b[1;32m    924\u001b[0m     \u001b[0midx\u001b[0m \u001b[0;34m=\u001b[0m \u001b[0mtuple\u001b[0m\u001b[0;34m(\u001b[0m\u001b[0mmap\u001b[0m\u001b[0;34m(\u001b[0m\u001b[0mnormalize_slice\u001b[0m\u001b[0;34m,\u001b[0m \u001b[0midx\u001b[0m\u001b[0;34m,\u001b[0m \u001b[0mnone_shape\u001b[0m\u001b[0;34m)\u001b[0m\u001b[0;34m)\u001b[0m\u001b[0;34m\u001b[0m\u001b[0;34m\u001b[0m\u001b[0m\n",
      "\u001b[0;32m/glade/work/gmarques/miniconda/envs/dev2/lib/python3.9/site-packages/dask/array/slicing.py\u001b[0m in \u001b[0;36mcheck_index\u001b[0;34m(axis, ind, dimension)\u001b[0m\n\u001b[1;32m    992\u001b[0m \u001b[0;34m\u001b[0m\u001b[0m\n\u001b[1;32m    993\u001b[0m     \u001b[0;32melif\u001b[0m \u001b[0mind\u001b[0m \u001b[0;34m>=\u001b[0m \u001b[0mdimension\u001b[0m \u001b[0;32mor\u001b[0m \u001b[0mind\u001b[0m \u001b[0;34m<\u001b[0m \u001b[0;34m-\u001b[0m\u001b[0mdimension\u001b[0m\u001b[0;34m:\u001b[0m\u001b[0;34m\u001b[0m\u001b[0;34m\u001b[0m\u001b[0m\n\u001b[0;32m--> 994\u001b[0;31m         raise IndexError(\n\u001b[0m\u001b[1;32m    995\u001b[0m             \u001b[0;34mf\"Index {ind} is out of bounds for axis {axis} with size {dimension}\"\u001b[0m\u001b[0;34m\u001b[0m\u001b[0;34m\u001b[0m\u001b[0m\n\u001b[1;32m    996\u001b[0m         )\n",
      "\u001b[0;31mIndexError\u001b[0m: Index 0 is out of bounds for axis 0 with size 0"
     ]
    },
    {
     "data": {
      "image/png": "[encoded data removed]",
      "text/plain": [
       "<Figure size 1152x504 with 1 Axes>"
      ]
     },
     "metadata": {
      "filenames": {
       "image/png": "/glade/work/gmarques/Notebooks/CESM_MOM6/G/g.e23_a16g.GJRAv4.TL319_t232_hycom1_N75.2024.016/notebooks/_build/jupyter_execute/meridional_sections_7_1.png"
      },
      "needs_background": "light"
     },
     "output_type": "display_data"
    }
   ],
   "source": [
    "matplotlib.rcParams.update({'font.size': 16})\n",
    "fig, ax = plt.subplots(figsize=(16, 7))\n",
    "da.tos[0,:].plot(ax=ax, vmin=-1, vmax=30)\n",
    "\n",
    "# prime\n",
    "val = -173.\n",
    "geolat = grd_xr[0].geolat.sel(xh=val, method='nearest')\n",
    "yh = extrapCoord(geolat.values)\n",
    "xh = np.ones(len(yh)) * val\n",
    "ax.plot(xh,yh,'k--')\n",
    "\n",
    "# meridional Atlantic\n",
    "val = -30.\n",
    "geolat = grd_xr[0].geolat.sel(xh=val, method='nearest')\n",
    "yh = extrapCoord(geolat.values)\n",
    "xh = np.ones(len(yh)) * val\n",
    "ax.plot(xh,yh,'k--')\n",
    "\n",
    "# zonal Southern Ocean\n",
    "val = -60.\n",
    "xh = extrapCoord(grd_xr[0].geolon.sel(yh=val, method='nearest').values)\n",
    "yh = np.ones(len(xh)) * val\n",
    "ax.plot(xh,yh,'k--')\n",
    "\n",
    "# Equator\n",
    "val = -0.\n",
    "xh = extrapCoord(grd_xr[0].geolon.sel(yh=val, method='nearest').values)\n",
    "yh = np.ones(len(xh)) * val\n",
    "ax.plot(xh,yh,'k--')\n",
    "\n",
    "# N Atlantic zonal\n",
    "val = 60\n",
    "xh = extrapCoord(grd_xr[0].geolon.sel(yh=val, method='nearest').sel(xh=slice(-60,5)).values)\n",
    "yh = np.ones(len(xh)) * val\n",
    "ax.plot(xh,yh,'k--')"
   ]
  },
  {
   "cell_type": "code",
   "execution_count": 8,
   "metadata": {},
   "outputs": [],
   "source": [
    "def section_plot(xCoord, yCoord, zData, var, time, fname, reg, vmin=10, vmax=500, \n",
    "                 zmin=-6000, zmax=0, xlabel='Latitude' ,show=False):\n",
    "  matplotlib.rcParams.update({'font.size': 16})  \n",
    "  # Plotting the vertical section\n",
    "  fig, ax = plt.subplots(figsize=(16, 7))\n",
    "\n",
    "  # Use plt.pcolormesh to create the plot\n",
    "  cb = ax.pcolormesh(xCoord, yCoord, zData, cmap='viridis', shading='auto', vmin=vmin, vmax=vmax)\n",
    "  ax.plot(xCoord, yCoord.T, 'k', lw=0.5);\n",
    "  ax.set_ylabel('Depth [m]')\n",
    "  ax.set_xlabel(xlabel)\n",
    "  ax.set_title('{}, {} ({}) at {}'.format(reg, var.long_name, var.units, time))\n",
    "  ax.set_ylim(zmin, zmax)\n",
    "  plt.tight_layout()\n",
    "  plt.colorbar(cb, fraction=.08)    \n",
    "  plt.savefig(fname, dpi=150, transparent=True)\n",
    "  if not show:\n",
    "    plt.close()\n",
    "\n",
    "  return"
   ]
  },
  {
   "cell_type": "code",
   "execution_count": 9,
   "metadata": {},
   "outputs": [],
   "source": [
    "def combine_ffmpeg_command(sourcefolder, moviename, framerate, frame_pattern, ffmpeg_options):\n",
    "    # we need `-y` because i can not properly diagnose the errors here...\n",
    "    dummy = '/glade/u/apps/casper/23.10/opt/view/bin/ffmpeg'\n",
    "    command = dummy + ' -r %i -i \"%s\" -y %s -r %i \"%s\"' % (\n",
    "        framerate,\n",
    "        os.path.join(sourcefolder, frame_pattern),\n",
    "        ffmpeg_options,\n",
    "        framerate,\n",
    "        os.path.join(sourcefolder, moviename),\n",
    "    )\n",
    "    return command"
   ]
  },
  {
   "cell_type": "code",
   "execution_count": 10,
   "metadata": {},
   "outputs": [],
   "source": [
    "def check_ffmpeg_version():\n",
    "    #dummy = '/glade/u/apps/dav/opt/ffmpeg/4.1.3/gnu/8.3.0/bin/ffmpeg'\n",
    "    dummy = '/glade/u/apps/casper/23.10/opt/view/bin/ffmpeg'\n",
    "    p = Popen(dummy + \" -version\", stdout=PIPE, shell=True)\n",
    "    #p = Popen(\"ffmpeg -version\", stdout=PIPE, shell=True)\n",
    "    (output, err) = p.communicate()\n",
    "    p_status = p.wait()\n",
    "    # Parse version\n",
    "    if p_status != 0:\n",
    "        print(\"No ffmpeg found\")\n",
    "        return None\n",
    "    else:\n",
    "        # parse version number\n",
    "        try:\n",
    "            found = re.search(\"ffmpeg version (.+?) Copyright\", str(output)).group(1).replace(\" \", \"\")\n",
    "            return found\n",
    "        except AttributeError:\n",
    "            # ffmpeg version, Copyright not found in the original string\n",
    "            found = None\n",
    "    return found"
   ]
  },
  {
   "cell_type": "code",
   "execution_count": 11,
   "metadata": {},
   "outputs": [],
   "source": [
    "def check_ffmpeg_execute(command, verbose=False, error=False):\n",
    "    if check_ffmpeg_version() is None:\n",
    "        raise RuntimeError(\n",
    "            \"Could not find an ffmpeg version on the system. \\\n",
    "        Please install ffmpeg with e.g. `conda install -c conda-forge ffmpeg`\"\n",
    "        )\n",
    "    else:\n",
    "        try:\n",
    "            print(command)\n",
    "            p = execute_command(command, verbose=verbose, error=error)\n",
    "            return p\n",
    "        except RuntimeError:\n",
    "            raise RuntimeError(\n",
    "                \"Something has gone wrong. Use `verbose=True` to check if ffmpeg displays a problem\"\n",
    "            )\n",
    "    return"
   ]
  },
  {
   "cell_type": "code",
   "execution_count": 12,
   "metadata": {},
   "outputs": [],
   "source": [
    "def execute_command(command, verbose=False, error=False):\n",
    "    p = Popen(command, stdout=PIPE, stderr=STDOUT, shell=True)\n",
    "\n",
    "    if verbose:\n",
    "        while True:\n",
    "            out = p.stdout.read(1)\n",
    "            out_check = out.decode()\n",
    "            if out_check == \"\" and p.poll() is not None:\n",
    "                break\n",
    "            if out_check != \"\":\n",
    "                # only display 10 lines, this cant be that hard?\n",
    "                sys.stdout.write(out)\n",
    "                sys.stdout.flush()\n",
    "    else:\n",
    "        p.wait()\n",
    "    if error:\n",
    "        if p.returncode != 0:\n",
    "            raise RuntimeError(\"Command %s failed\" % command)\n",
    "    return p"
   ]
  },
  {
   "cell_type": "code",
   "execution_count": 13,
   "metadata": {},
   "outputs": [],
   "source": [
    "def combine_frames_into_movie(\n",
    "    sourcefolder,\n",
    "    moviename,\n",
    "    frame_pattern=\"frame_%05d.png\",\n",
    "    remove_frames=True,\n",
    "    verbose=False,\n",
    "    ffmpeg_options=\"-c:v libx264 -preset veryslow -crf 15 -pix_fmt yuv420p\",\n",
    "    framerate=10,\n",
    "):\n",
    "\n",
    "    command = combine_ffmpeg_command(sourcefolder, moviename, framerate, frame_pattern, ffmpeg_options)\n",
    "    print(command)\n",
    "    p = check_ffmpeg_execute(command, verbose=verbose)\n",
    "\n",
    "    print(\"Movie created at %s\" % (moviename))\n",
    "    if remove_frames:\n",
    "        rem_name = frame_pattern.replace(\"%03d\", \"*\")\n",
    "        for f in glob.glob(os.path.join(sourcefolder, rem_name)):\n",
    "            if os.path.exists(f):\n",
    "                os.remove(f)\n",
    "    return p"
   ]
  },
  {
   "cell_type": "markdown",
   "metadata": {},
   "source": [
    "### Prime"
   ]
  },
  {
   "cell_type": "code",
   "execution_count": 14,
   "metadata": {},
   "outputs": [
    {
     "name": "stdout",
     "output_type": "stream",
     "text": [
      "/glade/u/apps/casper/23.10/opt/view/bin/ffmpeg -r 10 -i \"sections/g.e23_a16g.GJRAv4.TL319_t232_hycom1_N75.2024.008_h_%03d.png\" -y -c:v libx264 -preset veryslow -crf 15 -pix_fmt yuv420p -r 10 \"sections/g.e23_a16g.GJRAv4.TL319_t232_hycom1_N75.2024.008_h_prime.mov\"\n",
      "/glade/u/apps/casper/23.10/opt/view/bin/ffmpeg -r 10 -i \"sections/g.e23_a16g.GJRAv4.TL319_t232_hycom1_N75.2024.008_h_%03d.png\" -y -c:v libx264 -preset veryslow -crf 15 -pix_fmt yuv420p -r 10 \"sections/g.e23_a16g.GJRAv4.TL319_t232_hycom1_N75.2024.008_h_prime.mov\"\n",
      "Movie created at g.e23_a16g.GJRAv4.TL319_t232_hycom1_N75.2024.008_h_prime.mov\n"
     ]
    },
    {
     "data": {
      "text/plain": [
       "<Popen: returncode: 0 args: '/glade/u/apps/casper/23.10/opt/view/bin/ffmpeg ...>"
      ]
     },
     "execution_count": 14,
     "metadata": {},
     "output_type": "execute_result"
    }
   ],
   "source": [
    "var = 'h' # 'agessc'\n",
    "val = -173.\n",
    "reg = 'prime'\n",
    "label = 'lon = {}'.format(val)\n",
    "\n",
    "geolat = grd_xr[0].geolat.sel(xh=val, method='nearest')\n",
    "yh = extrapCoord(geolat.values)\n",
    "for t in range(len(da.time)):\n",
    "#for t in range(4):\n",
    "  data = da[var].isel(time=t).sel(xh=val, method='nearest')\n",
    "  elev = da.e.isel(time=t).sel(xh=val, method='nearest')\n",
    "  xCoord, yCoord, zData = section2quadmesh(yh, elev.fillna(0).values, data.values, representation='pcm')\n",
    "  fname='sections/%s_%s_%03d.png'%(casename[n],var,t)\n",
    "  # Plotting the vertical section\n",
    "  section_plot(xCoord, yCoord, zData, da[var], data.time.values, fname, label, \n",
    "               vmin=10, vmax=500, zmin=-6000, zmax=0, show=False)\n",
    "    \n",
    "mov_name = '%s_%s_%s.mov'%(casename[n],var,reg)\n",
    "pattern = '%s_%s_'%(casename[n],var)+'%03d.png'\n",
    "combine_frames_into_movie('sections', mov_name, pattern)"
   ]
  },
  {
   "cell_type": "markdown",
   "metadata": {},
   "source": [
    "### Equator"
   ]
  },
  {
   "cell_type": "code",
   "execution_count": 15,
   "metadata": {},
   "outputs": [
    {
     "name": "stdout",
     "output_type": "stream",
     "text": [
      "/glade/u/apps/casper/23.10/opt/view/bin/ffmpeg -r 10 -i \"sections/g.e23_a16g.GJRAv4.TL319_t232_hycom1_N75.2024.008_h_%03d.png\" -y -c:v libx264 -preset veryslow -crf 15 -pix_fmt yuv420p -r 10 \"sections/g.e23_a16g.GJRAv4.TL319_t232_hycom1_N75.2024.008_h_equator.mov\"\n",
      "/glade/u/apps/casper/23.10/opt/view/bin/ffmpeg -r 10 -i \"sections/g.e23_a16g.GJRAv4.TL319_t232_hycom1_N75.2024.008_h_%03d.png\" -y -c:v libx264 -preset veryslow -crf 15 -pix_fmt yuv420p -r 10 \"sections/g.e23_a16g.GJRAv4.TL319_t232_hycom1_N75.2024.008_h_equator.mov\"\n",
      "Movie created at g.e23_a16g.GJRAv4.TL319_t232_hycom1_N75.2024.008_h_equator.mov\n"
     ]
    },
    {
     "data": {
      "text/plain": [
       "<Popen: returncode: 0 args: '/glade/u/apps/casper/23.10/opt/view/bin/ffmpeg ...>"
      ]
     },
     "execution_count": 15,
     "metadata": {},
     "output_type": "execute_result"
    }
   ],
   "source": [
    "val = -0.\n",
    "xh = extrapCoord(grd_xr[0].geolon.sel(yh=val, method='nearest').values)\n",
    "yh = np.ones(len(xh)) * val\n",
    "ax.plot(xh,yh,'k--')\n",
    "\n",
    "\n",
    "var = 'h' # 'agessc'\n",
    "val = -0.\n",
    "reg = 'equator'\n",
    "label = 'lat = 0'\n",
    "\n",
    "geolon = grd_xr[0].geolon.sel(yh=val, method='nearest')\n",
    "xh = extrapCoord(geolon.values)\n",
    "for t in range(len(da.time)):\n",
    "#for t in range(4):\n",
    "  data = da[var].isel(time=t).sel(yh=val, method='nearest')\n",
    "  elev = da.e.isel(time=t).sel(yh=val, method='nearest')\n",
    "  xCoord, yCoord, zData = section2quadmesh(xh, elev.fillna(0).values, data.values, representation='pcm')\n",
    "  fname='sections/%s_%s_%03d.png'%(casename[n],var,t)\n",
    "  # Plotting the vertical section\n",
    "  section_plot(xCoord, yCoord, zData, da[var], data.time.values, fname, label, \n",
    "               vmin=2, vmax=50, zmin=-1000, zmax=0, xlabel='Longitude', show=False)\n",
    "  #section_plot(xCoord, yCoord, zData, da[var], data.time.values, fname, label, \n",
    "  #             vmin=10, vmax=250, xlabel='Longitude', show=False)\n",
    "    \n",
    "mov_name = '%s_%s_%s.mov'%(casename[n],var,reg)\n",
    "pattern = '%s_%s_'%(casename[n],var)+'%03d.png'\n",
    "combine_frames_into_movie('sections', mov_name, pattern)"
   ]
  }
 ],
 "metadata": {
  "kernelspec": {
   "display_name": "Python [conda env:miniconda-dev2]",
   "language": "python",
   "name": "dev2"
  },
  "language_info": {
   "codemirror_mode": {
    "name": "ipython",
    "version": 3
   },
   "file_extension": ".py",
   "mimetype": "text/x-python",
   "name": "python",
   "nbconvert_exporter": "python",
   "pygments_lexer": "ipython3",
   "version": "3.9.9"
  }
 },
 "nbformat": 4,
 "nbformat_minor": 4
}